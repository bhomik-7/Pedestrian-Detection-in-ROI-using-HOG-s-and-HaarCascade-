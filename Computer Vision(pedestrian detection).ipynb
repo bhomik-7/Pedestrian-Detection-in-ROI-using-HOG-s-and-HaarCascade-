{
 "cells": [
  {
   "cell_type": "code",
   "execution_count": 1,
   "metadata": {},
   "outputs": [
    {
     "data": {
      "text/html": [
       "<video src=\"vid.mp4\" controls  >\n",
       "      Your browser does not support the <code>video</code> element.\n",
       "    </video>"
      ],
      "text/plain": [
       "<IPython.core.display.Video object>"
      ]
     },
     "execution_count": 1,
     "metadata": {},
     "output_type": "execute_result"
    }
   ],
   "source": [
    "from IPython.display import Video\n",
    "\n",
    "Video(\"vid.mp4\")"
   ]
  },
  {
   "cell_type": "code",
   "execution_count": 2,
   "metadata": {
    "execution": {
     "iopub.execute_input": "2023-01-08T13:27:45.636447Z",
     "iopub.status.busy": "2023-01-08T13:27:45.635965Z",
     "iopub.status.idle": "2023-01-08T13:27:45.645645Z",
     "shell.execute_reply": "2023-01-08T13:27:45.643803Z",
     "shell.execute_reply.started": "2023-01-08T13:27:45.636409Z"
    }
   },
   "outputs": [],
   "source": [
    "import json\n",
    "json__ = open('cam_config.json')\n",
    "data = json.load(json__)"
   ]
  },
  {
   "cell_type": "code",
   "execution_count": 3,
   "metadata": {
    "execution": {
     "iopub.execute_input": "2023-01-08T13:27:45.936209Z",
     "iopub.status.busy": "2023-01-08T13:27:45.935776Z",
     "iopub.status.idle": "2023-01-08T13:27:45.948266Z",
     "shell.execute_reply": "2023-01-08T13:27:45.946163Z",
     "shell.execute_reply.started": "2023-01-08T13:27:45.936173Z"
    }
   },
   "outputs": [
    {
     "data": {
      "text/plain": [
       "[{'areaName': 'SIDEWAY',\n",
       "  'coordinates': [{'x': 0.02978515625, 'y': 0.41458331214057076},\n",
       "   {'x': 0.5021193675479406, 'y': 0.41458331214057076},\n",
       "   {'x': 0.02978515625, 'y': 0.9202311281017287},\n",
       "   {'x': 0.5021193675479406, 'y': 0.9202311281017287}]},\n",
       " {'areaName': 'ENTRY',\n",
       "  'coordinates': [{'x': 0.567230224609375, 'y': 0.49097220102945965},\n",
       "   {'x': 0.9492845239106174, 'y': 0.49097220102945965},\n",
       "   {'x': 0.567230224609375, 'y': 0.9125578491776076},\n",
       "   {'x': 0.9492845239106174, 'y': 0.9125578491776076}]}]"
      ]
     },
     "execution_count": 3,
     "metadata": {},
     "output_type": "execute_result"
    }
   ],
   "source": [
    "list__ = []\n",
    "for i in data['siteConfig']['cameraConfig']['201']['roi']:\n",
    "    list__.append(i)\n",
    "json__.close()\n",
    "\n",
    "list__"
   ]
  },
  {
   "cell_type": "code",
   "execution_count": 4,
   "metadata": {},
   "outputs": [],
   "source": [
    "sp1_x = int((list__[1]['coordinates'][0]['x'])*1000)\n",
    "sp1_y = int((list__[1]['coordinates'][0]['y'])*1000)\n",
    "sp2_x = int((list__[0]['coordinates'][0]['x'])*1000)\n",
    "sp2_y = int((list__[0]['coordinates'][0]['x'])*1000)"
   ]
  },
  {
   "cell_type": "code",
   "execution_count": 5,
   "metadata": {},
   "outputs": [],
   "source": [
    "ep1_x = int((list__[1]['coordinates'][3]['x'])*1000)\n",
    "ep1_y = int((list__[1]['coordinates'][3]['y'])*1000)\n",
    "ep2_x = int((list__[0]['coordinates'][3]['x'])*1000)\n",
    "ep2_y = int((list__[0]['coordinates'][3]['x'])*1000)"
   ]
  },
  {
   "cell_type": "code",
   "execution_count": 6,
   "metadata": {},
   "outputs": [
    {
     "data": {
      "text/plain": [
       "(29, 29)"
      ]
     },
     "execution_count": 6,
     "metadata": {},
     "output_type": "execute_result"
    }
   ],
   "source": [
    "sp1 = (sp1_x, sp1_y)\n",
    "sp2 = (sp2_x, sp2_y)\n",
    "sp2"
   ]
  },
  {
   "cell_type": "code",
   "execution_count": 7,
   "metadata": {},
   "outputs": [
    {
     "data": {
      "text/plain": [
       "(502, 502)"
      ]
     },
     "execution_count": 7,
     "metadata": {},
     "output_type": "execute_result"
    }
   ],
   "source": [
    "ep1 = (ep1_x, ep1_y)\n",
    "ep2 = (ep2_x, ep2_y)\n",
    "ep2"
   ]
  },
  {
   "cell_type": "code",
   "execution_count": 8,
   "metadata": {
    "execution": {
     "iopub.execute_input": "2023-01-08T13:41:08.055507Z",
     "iopub.status.busy": "2023-01-08T13:41:08.054461Z",
     "iopub.status.idle": "2023-01-08T13:41:08.062619Z",
     "shell.execute_reply": "2023-01-08T13:41:08.061463Z",
     "shell.execute_reply.started": "2023-01-08T13:41:08.055464Z"
    }
   },
   "outputs": [],
   "source": [
    "import matplotlib.pyplot as plt\n",
    "%matplotlib inline"
   ]
  },
  {
   "cell_type": "code",
   "execution_count": 9,
   "metadata": {
    "execution": {
     "iopub.execute_input": "2023-01-08T13:51:17.399200Z",
     "iopub.status.busy": "2023-01-08T13:51:17.398767Z",
     "iopub.status.idle": "2023-01-08T13:51:20.675551Z",
     "shell.execute_reply": "2023-01-08T13:51:20.674282Z",
     "shell.execute_reply.started": "2023-01-08T13:51:17.399161Z"
    }
   },
   "outputs": [
    {
     "name": "stderr",
     "output_type": "stream",
     "text": [
      "'grep' is not recognized as an internal or external command,\n",
      "operable program or batch file.\n"
     ]
    }
   ],
   "source": [
    "!pip list | grep opencv"
   ]
  },
  {
   "cell_type": "code",
   "execution_count": 10,
   "metadata": {},
   "outputs": [],
   "source": [
    "import cv2 as cv"
   ]
  },
  {
   "cell_type": "code",
   "execution_count": 11,
   "metadata": {
    "execution": {
     "iopub.execute_input": "2023-01-08T13:51:25.028708Z",
     "iopub.status.busy": "2023-01-08T13:51:25.028282Z",
     "iopub.status.idle": "2023-01-08T13:51:25.045798Z",
     "shell.execute_reply": "2023-01-08T13:51:25.044597Z",
     "shell.execute_reply.started": "2023-01-08T13:51:25.028670Z"
    }
   },
   "outputs": [],
   "source": [
    "cap = cv.VideoCapture('vid.mp4')"
   ]
  },
  {
   "cell_type": "code",
   "execution_count": 12,
   "metadata": {},
   "outputs": [],
   "source": [
    "frame_width = int(cap.get(cv.CAP_PROP_FRAME_WIDTH))"
   ]
  },
  {
   "cell_type": "code",
   "execution_count": 13,
   "metadata": {},
   "outputs": [
    {
     "data": {
      "text/plain": [
       "1920"
      ]
     },
     "execution_count": 13,
     "metadata": {},
     "output_type": "execute_result"
    }
   ],
   "source": [
    "frame_width"
   ]
  },
  {
   "cell_type": "code",
   "execution_count": 14,
   "metadata": {
    "execution": {
     "iopub.execute_input": "2023-01-08T13:51:25.416703Z",
     "iopub.status.busy": "2023-01-08T13:51:25.416292Z",
     "iopub.status.idle": "2023-01-08T13:51:25.423090Z",
     "shell.execute_reply": "2023-01-08T13:51:25.422307Z",
     "shell.execute_reply.started": "2023-01-08T13:51:25.416669Z"
    }
   },
   "outputs": [
    {
     "data": {
      "text/plain": [
       "<VideoCapture 000001FD863CEBF0>"
      ]
     },
     "execution_count": 14,
     "metadata": {},
     "output_type": "execute_result"
    }
   ],
   "source": [
    "cap"
   ]
  },
  {
   "cell_type": "code",
   "execution_count": 15,
   "metadata": {},
   "outputs": [],
   "source": [
    "import matplotlib.pyplot as plt\n",
    "%matplotlib inline"
   ]
  },
  {
   "cell_type": "markdown",
   "metadata": {},
   "source": [
    "Haar Cascade approach to Pedestrian Detection, didn't worked well so I implemented another model"
   ]
  },
  {
   "cell_type": "code",
   "execution_count": 16,
   "metadata": {
    "execution": {
     "iopub.execute_input": "2023-01-08T13:51:37.387282Z",
     "iopub.status.busy": "2023-01-08T13:51:37.386847Z",
     "iopub.status.idle": "2023-01-08T13:51:37.412166Z",
     "shell.execute_reply": "2023-01-08T13:51:37.410428Z",
     "shell.execute_reply.started": "2023-01-08T13:51:37.387249Z"
    },
    "scrolled": true
   },
   "outputs": [],
   "source": [
    "#haar_cascade = cv.CascadeClassifier('haarcascade_upperbody.xml')\n",
    "#while(cap.isOpened()):\n",
    "#    ret, frame = cap.read()\n",
    "#    if ret == True:\n",
    "#        resize__ = cv.resize(frame, (1000, 900))\n",
    "#        rect_1 = cv.rectangle(resize__, sp, ep, (0,255,255), 1)\n",
    "#        gray = cv.cvtColor(resize__, cv.COLOR_BGR2GRAY)\n",
    "#        gray = gray[sp_x:ep_x, sp_y:ep_y]\n",
    "#        faces_rect = haar_cascade.detectMultiScale(gray , scaleFactor = 2.0 , minNeighbors = 5)\n",
    "#        colored = cv.cvtColor(gray, cv.COLOR_GRAY2BGR)\n",
    "#        for (x , y , w , h) in faces_rect :\n",
    "#            cv.rectangle(colored, (x,y) , (x+w , y+h) , (255 , 0 , 0) , thickness = 2)\n",
    "#        cv.imshow('roi', colored)\n",
    "#        if cv.waitKey(60) & 0xFF == ord('d'):\n",
    "#            break\n",
    "#        cv.imshow('cctv footage', resize__)\n",
    "#        if cv.waitKey(60) & 0xFF == ord('e'):\n",
    "#            break\n",
    "#cap.release()\n",
    "#cv.destroyAllWindows()"
   ]
  },
  {
   "cell_type": "code",
   "execution_count": 17,
   "metadata": {},
   "outputs": [
    {
     "name": "stdout",
     "output_type": "stream",
     "text": [
      "Requirement already satisfied: imutils in c:\\users\\hp\\anaconda3\\lib\\site-packages (0.5.4)\n"
     ]
    }
   ],
   "source": [
    "!pip install imutils"
   ]
  },
  {
   "cell_type": "markdown",
   "metadata": {},
   "source": [
    "Histograms of Oriented Gradients or HOG model detecting pedestrians on the sidewalk and entry gate."
   ]
  },
  {
   "cell_type": "code",
   "execution_count": 18,
   "metadata": {},
   "outputs": [],
   "source": [
    "frame_width = int(cap.get(cv.CAP_PROP_FRAME_WIDTH))\n",
    "frame_height = int(cap.get(cv.CAP_PROP_FRAME_HEIGHT))\n",
    "out1 = cv.VideoWriter('video.avi',cv.VideoWriter_fourcc('M','J','P','G'), 1, (frame_width,frame_height))\n",
    "out2 = cv.VideoWriter('video.avi',cv.VideoWriter_fourcc('M','J','P','G'), 1, (frame_width,frame_height))\n",
    "import imutils\n",
    "hog = cv.HOGDescriptor()\n",
    "hog.setSVMDetector(cv.HOGDescriptor_getDefaultPeopleDetector())\n",
    "while(cap.isOpened()):\n",
    "    ret, frame = cap.read()\n",
    "    if ret == True:\n",
    "        crop1 = frame[sp1_x:ep1_x, sp1_y:ep1_y]\n",
    "        crop2 = frame[sp2_x:ep2_x, sp2_y:ep2_y]\n",
    "        #resize__ = imutils.resize(frame, width=min(500, frame.shape[1]))\n",
    "        #resize__ = cv.resize(frame, (900, 700))\n",
    "        #rect_1 = cv.rectangle(crop, sp1, ep1, (0,255,255), 1)\n",
    "        (regions1, _)= hog.detectMultiScale(crop1, winStride=(4,4), padding = (4,4), scale = 1.05)\n",
    "        (regions2, _)= hog.detectMultiScale(crop2, winStride=(4,4), padding = (4,4), scale = 1.05)\n",
    "        for (x, y, w, h) in regions1:\n",
    "            cv.rectangle(crop1, (x, y), (x + w, y + h), (0, 0, 255), 2)\n",
    "        for (x, y, w, h) in regions2:\n",
    "            cv.rectangle(crop2, (x, y), (x + w, y + h), (0, 0, 255), 2)\n",
    "        cv.imshow(\"entry\", crop1)\n",
    "        cv.imshow(\"sidewalk\", crop2)\n",
    "        out1.write(crop1)\n",
    "        out2.write(crop2)\n",
    "        frametime1 = 1\n",
    "        frametime2 = 1\n",
    "        if cv.waitKey(frametime1) & 0xFF == ord('d'):\n",
    "            break\n",
    "        if cv.waitKey(frametime2) & 0xFF == ord('d'):\n",
    "            break\n",
    "    #print(box)\n",
    "#out.release()\n",
    "cap.release()  \n",
    "cv.destroyAllWindows()"
   ]
  },
  {
   "cell_type": "code",
   "execution_count": null,
   "metadata": {},
   "outputs": [],
   "source": []
  },
  {
   "cell_type": "code",
   "execution_count": null,
   "metadata": {
    "execution": {
     "iopub.execute_input": "2023-01-08T13:28:58.875838Z",
     "iopub.status.busy": "2023-01-08T13:28:58.875333Z",
     "iopub.status.idle": "2023-01-08T13:28:59.408285Z",
     "shell.execute_reply": "2023-01-08T13:28:59.407043Z",
     "shell.execute_reply.started": "2023-01-08T13:28:58.875792Z"
    }
   },
   "outputs": [],
   "source": []
  },
  {
   "cell_type": "code",
   "execution_count": null,
   "metadata": {},
   "outputs": [],
   "source": []
  },
  {
   "cell_type": "code",
   "execution_count": null,
   "metadata": {},
   "outputs": [],
   "source": []
  }
 ],
 "metadata": {
  "kernelspec": {
   "display_name": "Python 3",
   "language": "python",
   "name": "python3"
  },
  "language_info": {
   "codemirror_mode": {
    "name": "ipython",
    "version": 3
   },
   "file_extension": ".py",
   "mimetype": "text/x-python",
   "name": "python",
   "nbconvert_exporter": "python",
   "pygments_lexer": "ipython3",
   "version": "3.8.5"
  }
 },
 "nbformat": 4,
 "nbformat_minor": 4
}
